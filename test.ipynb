{
 "cells": [
  {
   "cell_type": "code",
   "execution_count": 13,
   "metadata": {
    "collapsed": false
   },
   "outputs": [
    {
     "name": "stdout",
     "output_type": "stream",
     "text": [
      "Gau-86077.inp\n",
      "l2-PtCl-td.inp\n"
     ]
    }
   ],
   "source": [
    "import glob\n",
    "import os\n",
    "os.chdir(\"/pstore/home/kachlera/gaussian/input/\")\n",
    "\n",
    "for file in glob.glob(\"*.inp\"):\n",
    "    print(file)"
   ]
  },
  {
   "cell_type": "code",
   "execution_count": 67,
   "metadata": {
    "collapsed": false
   },
   "outputs": [
    {
     "name": "stdout",
     "output_type": "stream",
     "text": [
      "test_0002.inp\n",
      "5\n",
      "test_0019.inp\n",
      "5\n",
      "test_0013.inp\n",
      "5\n",
      "test_0005.inp\n",
      "5\n",
      "test_0015.inp\n",
      "5\n",
      "test_0004.inp\n",
      "5\n",
      "test_0017.inp\n",
      "5\n",
      "test_0006.inp\n",
      "5\n",
      "test_0018.inp\n",
      "5\n",
      "test_0016.inp\n",
      "5\n",
      "test_0014.inp\n",
      "5\n",
      "test_0010.inp\n",
      "5\n",
      "test_0001.inp\n",
      "3\n",
      "test_0012.inp\n",
      "5\n",
      "test_0003.inp\n",
      "5\n",
      "test_0020.inp\n",
      "5\n",
      "test_0011.inp\n",
      "5\n",
      "test_0008.inp\n",
      "5\n",
      "test_0009.inp\n",
      "5\n",
      "test_0007.inp\n",
      "5\n"
     ]
    }
   ],
   "source": [
    "inputdir=\"/pstore/home/kachlera/gaussian/input/array_20\"\n",
    "ouputdir=\"/pstore/home/kachlera/gaussian/ouput_test\"\n",
    "filelist={}\n",
    "\n",
    "\n",
    "#Check if the ouput ir exist \n",
    "if not os.path.exists(ouputdir):\n",
    "    print(\"Outputdir missing\")\n",
    "    os.makedirs(ouputdir)\n",
    "else:\n",
    "    os.system(\"rm -rf \" + ouputdir + \"/*\")\n",
    "    \n",
    "i=1\n",
    "for root, dirs, files in os.walk(inputdir):\n",
    "    for file in files:\n",
    "        if file.endswith(\".inp\"):\n",
    "            source = os.path.join(root, file)\n",
    "            dest = ouputdir+\"/\"+file\n",
    "            content=[]\n",
    "            \n",
    "            #open source et destination files\n",
    "            fo_source = open (source, \"r\")\n",
    "            fo_dest = open (dest, \"w\")\n",
    "            \n",
    "            #remove the header and store the file in a list\n",
    "            for line in fo_source:\n",
    "                if not line.startswith('%'):\n",
    "                    content.append(line)\n",
    "            \n",
    "            #check if the 5 emty lines are presnet at the end\n",
    "            content_len=len(content)\n",
    "            nb_blank=0\n",
    "            for num in range((content_len-5),content_len):\n",
    "                if content[num]=='\\r\\n':\n",
    "                    nb_blank+=1\n",
    "            \n",
    "            for nb in range((5-nb_blank),4):\n",
    "                content.append('\\r\\n')\n",
    "                \n",
    "            #write the list to a file\n",
    "            for intems in content:\n",
    "                fo_dest.writelines(intems)\n",
    "                  \n",
    "                       \n",
    "            filelist[i]=file\n",
    "            i+=1\n",
    "            \n",
    "            #close all file streams\n",
    "            fo_source.close()\n",
    "            fo_dest.close()\n",
    "            \n",
    "            \n",
    "            \n",
    "#print filelist.values()\n",
    "#print len(filelist)"
   ]
  },
  {
   "cell_type": "code",
   "execution_count": null,
   "metadata": {
    "collapsed": true
   },
   "outputs": [],
   "source": []
  },
  {
   "cell_type": "code",
   "execution_count": null,
   "metadata": {
    "collapsed": true
   },
   "outputs": [],
   "source": []
  }
 ],
 "metadata": {
  "kernelspec": {
   "display_name": "Python 2",
   "language": "python",
   "name": "python2"
  },
  "language_info": {
   "codemirror_mode": {
    "name": "ipython",
    "version": 2
   },
   "file_extension": ".py",
   "mimetype": "text/x-python",
   "name": "python",
   "nbconvert_exporter": "python",
   "pygments_lexer": "ipython2",
   "version": "2.7.11"
  }
 },
 "nbformat": 4,
 "nbformat_minor": 0
}
